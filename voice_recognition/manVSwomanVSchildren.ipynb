{
 "cells": [
  {
   "cell_type": "code",
   "execution_count": 1,
   "id": "undefined-security",
   "metadata": {},
   "outputs": [],
   "source": [
    "import numpy as np\n",
    "from matplotlib import pyplot as pl\n",
    "import os\n",
    "import scipy.io.wavfile as wav\n",
    "\n",
    "%matplotlib inline\n",
    "\n",
    "PATH = './vowels/'"
   ]
  },
  {
   "cell_type": "code",
   "execution_count": 24,
   "id": "amazing-ownership",
   "metadata": {},
   "outputs": [],
   "source": [
    "import enum\n",
    "\n",
    "counterF = 0 #72\n",
    "counterM = 0 #72\n",
    "counterK = 0 #216\n",
    "\n",
    "def getGenderFromFilename(filename):\n",
    "    if(filename[2] == 'f'):\n",
    "        counterF += 1\n",
    "        return [1, 0, 0] # female\n",
    "    elif(filename[2] == 'm'):\n",
    "        counterM += 1\n",
    "        return [0, 1, 0] # male\n",
    "    else:\n",
    "        counterK += 1\n",
    "        return [0, 0, 1] # kid\n",
    "    \n",
    "def getVoiceTypeFromFilename(filename):\n",
    "    if(filename[0] == 's'):\n",
    "        return 0 # syntetic voice\n",
    "    else:\n",
    "        return 1 # real voice\n",
    "    \n",
    "def isAdult(filename):\n",
    "    return filename[1] != 'k'\n"
   ]
  },
  {
   "cell_type": "code",
   "execution_count": 25,
   "id": "proprietary-order",
   "metadata": {},
   "outputs": [],
   "source": [
    "from pathlib import Path\n",
    "from python_speech_features import mfcc\n",
    "\n",
    "mfccRawDatas = []\n",
    "#Read all the wav files\n",
    "pathlist = Path(PATH).glob('*.wav')\n",
    "for path in pathlist:\n",
    "    sample_rate, X = wav.read(str(path))\n",
    "    category = getGenderFromFilename(path.stem)\n",
    "    voiceType = getVoiceTypeFromFilename(path.stem)\n",
    "    #Append the data as a tuple of : (category (male, female or kid), voicetype (natural or synthetic),Mfcc data)\n",
    "    mfccRawDatas.append((category, voiceType, mfcc(X, samplerate = sample_rate, nfft = 1024)))"
   ]
  },
  {
   "cell_type": "code",
   "execution_count": 76,
   "id": "narrative-cigarette",
   "metadata": {},
   "outputs": [],
   "source": [
    "import random\n",
    "mfccDatas = []\n",
    "counterK = 0\n",
    "maxValueOfGender = 72\n",
    "\n",
    "\n",
    "random.shuffle(mfccRawDatas)\n",
    "#Recuce the MFCCs datas with a mean of all values\n",
    "for i in range(len(mfccRawDatas)) :\n",
    "    #Take the means of all windows\n",
    "    values = mfccRawDatas[i][2].mean(axis=0)\n",
    "    #Add the gender\n",
    "    #We know that we have to much data of kid, so we stop when we have 72 kids data\n",
    "    gender = mfccRawDatas[i][0]\n",
    "    if(gender[2] == 1): #kid\n",
    "        counterK += 1\n",
    "        if(counterK > maxValueOfGender):\n",
    "            continue\n",
    "    values = np.append(values, gender)\n",
    "    #Put the row in the array\n",
    "    mfccDatas.append(values)\n",
    "\n",
    "datas = np.asarray(mfccDatas)"
   ]
  },
  {
   "cell_type": "code",
   "execution_count": 78,
   "id": "external-favor",
   "metadata": {},
   "outputs": [
    {
     "data": {
      "text/plain": [
       "(216, 16)"
      ]
     },
     "execution_count": 78,
     "metadata": {},
     "output_type": "execute_result"
    }
   ],
   "source": [
    "datas.shape"
   ]
  },
  {
   "cell_type": "markdown",
   "id": "finnish-crawford",
   "metadata": {},
   "source": [
    "# Training part"
   ]
  },
  {
   "cell_type": "code",
   "execution_count": 79,
   "id": "peaceful-preview",
   "metadata": {},
   "outputs": [],
   "source": [
    "import mlp_backprop_momentum as mlp\n",
    "import k_fold_cross_validation as cv\n",
    "%matplotlib inline"
   ]
  },
  {
   "cell_type": "code",
   "execution_count": null,
   "id": "automated-cinema",
   "metadata": {},
   "outputs": [],
   "source": [
    "EPOCHS = 300\n",
    "LEARNING_RATE = 0.001\n",
    "MOMENTUM = 0.85\n",
    "\n",
    "K = 5\n",
    "N_TESTS = 5\n",
    "N_NEURONS = [3, 5, 7]\n",
    "#N_NEURONS = [3, 5, 7]\n",
    "\n",
    "MSE_train = np.zeros((len(N_NEURONS), EPOCHS, N_TESTS))\n",
    "MSE_test = np.zeros((len(N_NEURONS), EPOCHS, N_TESTS))\n",
    "\n",
    "for i_h, h in enumerate(N_NEURONS):                                     # looping the number of hidden neurons\n",
    "    print('Testing', h, 'neurons...')\n",
    "    nn = mlp.MLP([13, h,3, 3], 'tanh')\n",
    "        \n",
    "    for i in np.arange(N_TESTS):                                        # looping the tests\n",
    "        nn.init_weights()                                               # the network has to be reinitialized before each test\n",
    "        temp1, temp2 = cv.k_fold_cross_validation_per_epoch(nn,         # notice that we do not use cv.k_fold_cross_validation\n",
    "                                                            datas,      # but cv.k_fold_cross_validation_per_epoch which\n",
    "                                                            k=K,        # returns a value of error per each epoch\n",
    "                                                            learning_rate=LEARNING_RATE,\n",
    "                                                            momentum=MOMENTUM,\n",
    "                                                            epochs=EPOCHS)\n",
    "        # temp1 and temp2 are the training and test error. One value per epoch\n",
    "        MSE_train[i_h, :, i] = temp1\n",
    "        MSE_test[i_h, :, i] = temp2 \n",
    "\n",
    "print(\"Done !\")"
   ]
  },
  {
   "cell_type": "code",
   "execution_count": null,
   "id": "cutting-driver",
   "metadata": {},
   "outputs": [],
   "source": [
    "MSE_train_mean = np.mean(MSE_train, axis=2)\n",
    "MSE_test_mean = np.mean(MSE_test, axis=2)\n",
    "MSE_train_sd = np.std(MSE_train, axis=2)\n",
    "MSE_test_sd = np.std(MSE_test, axis=2)\n",
    "\n",
    "v_min = min(np.min(MSE_train_mean), np.min(MSE_test_mean))\n",
    "v_max = max(np.max(MSE_train_mean), np.max(MSE_test_mean))\n",
    "\n",
    "n_rows = int(np.ceil(len(N_NEURONS)/3.0))\n",
    "pl.figure(figsize=(12,3*n_rows))\n",
    "for i_n, n in enumerate(N_NEURONS):\n",
    "    pl.subplot(n_rows, min(3, len(N_NEURONS)), i_n+1)\n",
    "    pl.fill_between(np.arange(EPOCHS), MSE_train_mean[i_n,:], MSE_train_mean[i_n,:]+MSE_train_sd[i_n,:], facecolor='blue', alpha=0.5, label='Train')\n",
    "    pl.fill_between(np.arange(EPOCHS), MSE_train_mean[i_n,:], MSE_train_mean[i_n,:]-MSE_train_sd[i_n,:], facecolor='blue', alpha=0.5)\n",
    "    pl.fill_between(np.arange(EPOCHS), MSE_test_mean[i_n,:], MSE_test_mean[i_n,:]+MSE_test_sd[i_n,:], facecolor='red', alpha=0.5, label='Test')\n",
    "    pl.fill_between(np.arange(EPOCHS), MSE_test_mean[i_n,:], MSE_test_mean[i_n,:]-MSE_test_sd[i_n,:], facecolor='red', alpha=0.5)\n",
    "    pl.ylim(v_min,0.8*v_max)\n",
    "    pl.ylabel('MSE')\n",
    "    pl.xlabel('Number of epochs')\n",
    "    pl.title(str(K)+'-fold CV with '+str(n)+' hidden neurons')\n",
    "    pl.legend()\n",
    "    pl.grid()\n",
    "pl.tight_layout()"
   ]
  },
  {
   "cell_type": "code",
   "execution_count": null,
   "id": "found-offense",
   "metadata": {},
   "outputs": [],
   "source": [
    "pl.figure(figsize=(15,8))\n",
    "pl.subplot(2,1,1)\n",
    "pl.imshow(MSE_train_mean, vmin=np.min(MSE_train_mean), vmax=np.percentile(MSE_train_mean, 90), aspect=3, interpolation='nearest')\n",
    "pl.yticks(np.arange(len(N_NEURONS)), N_NEURONS)\n",
    "pl.xlabel('Epochs')\n",
    "pl.ylabel('Number of hidden Neurons')\n",
    "pl.title('Training')\n",
    "pl.colorbar()\n",
    "pl.subplot(2,1,2)\n",
    "pl.imshow(MSE_test_mean, vmin=np.min(MSE_test_mean), vmax=np.percentile(MSE_test_mean, 90), aspect=3, interpolation='nearest')\n",
    "pl.yticks(np.arange(len(N_NEURONS)), N_NEURONS)\n",
    "pl.xlabel('Epochs')\n",
    "pl.ylabel('Number of hidden Neurons')\n",
    "pl.title('Test')\n",
    "pl.colorbar()\n",
    "pl.tight_layout()"
   ]
  },
  {
   "cell_type": "markdown",
   "id": "elementary-cleanup",
   "metadata": {},
   "source": [
    "# The final model"
   ]
  },
  {
   "cell_type": "code",
   "execution_count": 80,
   "id": "incorrect-mouth",
   "metadata": {},
   "outputs": [],
   "source": [
    "nn = mlp.MLP([13,8,3], 'tanh')"
   ]
  },
  {
   "cell_type": "code",
   "execution_count": 81,
   "id": "first-costs",
   "metadata": {},
   "outputs": [],
   "source": [
    "LEARNING_RATE = 0.001\n",
    "MOMENTUM = 0.85\n",
    "THRESHOLD = 0.55\n",
    "EPOCHS = 200\n",
    "K = 5\n",
    "\n",
    "MSE_train, MSE_test, conf_mat, target_test, output_test = cv.k_fold_cross_validation(nn,\n",
    "                                                          datas,\n",
    "                                                          k=K,\n",
    "                                                          learning_rate=LEARNING_RATE,\n",
    "                                                          momentum=MOMENTUM,\n",
    "                                                          epochs=EPOCHS,\n",
    "                                                          threshold=THRESHOLD)\n"
   ]
  },
  {
   "cell_type": "code",
   "execution_count": 73,
   "id": "resident-gibson",
   "metadata": {},
   "outputs": [
    {
     "name": "stdout",
     "output_type": "stream",
     "text": [
      "[0. 0. 1.]\n",
      "[-0.50075948  0.7040485   0.94049172]\n",
      "[1. 0. 0.]\n",
      "[0.62663037 0.0012015  0.61264481]\n",
      "[0. 1. 0.]\n",
      "[-0.65841371  0.97545256  0.62126545]\n",
      "[0. 0. 1.]\n",
      "[0.59232051 0.00161832 0.56468739]\n",
      "[0. 1. 0.]\n",
      "[ 0.6168057   0.96711199 -0.576632  ]\n",
      "[0. 0. 1.]\n",
      "[ 5.95534383e-01 -6.30458665e-06  7.37578401e-01]\n",
      "[1. 0. 0.]\n",
      "[ 0.64927799 -0.00287468  0.67965334]\n",
      "[0. 1. 0.]\n",
      "[-0.67588005  0.9672657   0.72656587]\n",
      "[0. 0. 1.]\n",
      "[5.62928977e-01 1.48347986e-04 7.54335053e-01]\n",
      "[1. 0. 0.]\n",
      "[0.57212632 0.02914645 0.83852239]\n",
      "[0. 1. 0.]\n",
      "[ 0.6134084   0.97613277 -0.71630973]\n",
      "[1. 0. 0.]\n",
      "[0.6749109  0.00842074 0.78469935]\n",
      "[1. 0. 0.]\n",
      "[-0.43325181  0.90804498  0.7294387 ]\n",
      "[0. 1. 0.]\n",
      "[-0.60205932  0.97033009  0.8668079 ]\n",
      "[0. 0. 1.]\n",
      "[0.57940308 0.00299608 0.89569312]\n",
      "[0. 0. 1.]\n",
      "[0.55709622 0.00519073 0.88287605]\n",
      "[0. 0. 1.]\n",
      "[0.57959217 0.00296891 0.89565845]\n",
      "72   72   216\n",
      "[0. 1. 0.]\n",
      "[False  True False]\n"
     ]
    }
   ],
   "source": [
    "totalm = 0\n",
    "totalk = 0\n",
    "totalf = 0\n",
    "for i in range(target_test.shape[0]):\n",
    "    if((output_test[i] > THRESHOLD).tolist().count(True) > 1):\n",
    "        print(target_test[i])\n",
    "        print(output_test[i])\n",
    "    if(target_test[i][2] == 1):\n",
    "        totalk += 1\n",
    "    elif(target_test[i][1] == 1):\n",
    "        totalm += 1\n",
    "    else:\n",
    "        totalf += 1\n",
    "\n",
    "print(totalm, \" \", totalf, \" \", totalk)\n"
   ]
  },
  {
   "cell_type": "code",
   "execution_count": 82,
   "id": "revised-caribbean",
   "metadata": {},
   "outputs": [
    {
     "name": "stdout",
     "output_type": "stream",
     "text": [
      "MSE training:  0.035653289967389167\n",
      "MSE test:  0.12650729756400103\n",
      "Confusion matrix:\n",
      "[[49.  1. 23.]\n",
      " [ 7. 66.  4.]\n",
      " [16.  1. 57.]]\n"
     ]
    }
   ],
   "source": [
    "\n",
    "print('MSE training: ', MSE_train)\n",
    "print('MSE test: ', MSE_test)\n",
    "print('Confusion matrix:')\n",
    "print(conf_mat)"
   ]
  },
  {
   "cell_type": "code",
   "execution_count": 83,
   "id": "hairy-civilization",
   "metadata": {},
   "outputs": [
    {
     "name": "stdout",
     "output_type": "stream",
     "text": [
      "Classes: woman - man - kid\n",
      "Precision:  [0.68055556 0.97058824 0.67857143]\n",
      "Recall:  [0.67123288 0.85714286 0.77027027]\n",
      "F-score:  [0.67586207 0.91034483 0.72151899]\n"
     ]
    }
   ],
   "source": [
    "tp = np.diag(conf_mat)\n",
    "fp = np.sum(conf_mat, axis=0) - tp\n",
    "fn = np.sum(conf_mat, axis=1) - tp\n",
    "precision = tp / (tp + fp)\n",
    "recall = tp / (tp + fn)\n",
    "fscore = 2 * recall * precision / (recall + precision)\n",
    "\n",
    "print(\"Classes: woman - man - kid\")\n",
    "print(\"Precision: \", precision)\n",
    "print(\"Recall: \", recall)\n",
    "print(\"F-score: \", fscore)"
   ]
  },
  {
   "cell_type": "code",
   "execution_count": null,
   "id": "entertaining-crisis",
   "metadata": {},
   "outputs": [],
   "source": []
  }
 ],
 "metadata": {
  "kernelspec": {
   "display_name": "Python 3",
   "language": "python",
   "name": "python3"
  },
  "language_info": {
   "codemirror_mode": {
    "name": "ipython",
    "version": 3
   },
   "file_extension": ".py",
   "mimetype": "text/x-python",
   "name": "python",
   "nbconvert_exporter": "python",
   "pygments_lexer": "ipython3",
   "version": "3.8.5"
  }
 },
 "nbformat": 4,
 "nbformat_minor": 5
}
