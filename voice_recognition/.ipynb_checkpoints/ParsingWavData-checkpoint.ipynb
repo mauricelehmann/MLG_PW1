{
 "cells": [
  {
   "cell_type": "markdown",
   "id": "norman-physiology",
   "metadata": {},
   "source": [
    "## Data processing"
   ]
  },
  {
   "cell_type": "code",
   "execution_count": 1,
   "id": "waiting-table",
   "metadata": {},
   "outputs": [],
   "source": [
    "import numpy as np\n",
    "from matplotlib import pyplot as pl\n",
    "import os\n",
    "import scipy.io.wavfile as wav\n",
    "\n",
    "%matplotlib inline\n",
    "\n",
    "PATH = './vowels/'"
   ]
  },
  {
   "cell_type": "code",
   "execution_count": 186,
   "id": "mounted-cause",
   "metadata": {},
   "outputs": [],
   "source": [
    "import enum\n",
    "\n",
    "def getGenderFromFilename(filename):\n",
    "    if(filename[1] == 'k'):\n",
    "        return 2\n",
    "    elif(filename[1] == 'm'):\n",
    "        return 0\n",
    "    else:\n",
    "        return 1 # female\n",
    "    \n",
    "def getVoiceTypeFromFilename(filename):\n",
    "    if(filename[0] == 's'):\n",
    "        return 0\n",
    "    else:\n",
    "        return 1\n",
    "    \n",
    "def isAdult(filename):\n",
    "    return filename[1] != 'k'\n"
   ]
  },
  {
   "cell_type": "code",
   "execution_count": 187,
   "id": "noble-yorkshire",
   "metadata": {},
   "outputs": [],
   "source": [
    "from pathlib import Path\n",
    "from python_speech_features import mfcc\n",
    "\n",
    "mfccRawDatas = []\n",
    "\n",
    "#Read all the wav files\n",
    "pathlist = Path(PATH).glob('*.wav')\n",
    "for path in pathlist:\n",
    "    sample_rate, X = wav.read(str(path))\n",
    "    category = getGenderFromFilename(path.stem)\n",
    "    voiceType = getVoiceTypeFromFilename(path.stem)\n",
    "    #TODO : maybe add age here...\n",
    "\n",
    "    #Append the data as a tuple of : (category (male, female or kid), voicetype (natural or synthetic),Mfcc data)\n",
    "    mfccRawDatas.append((category, voiceType, mfcc(X, samplerate = sample_rate, nfft = 1024)))\n"
   ]
  },
  {
   "cell_type": "code",
   "execution_count": null,
   "id": "posted-houston",
   "metadata": {},
   "outputs": [],
   "source": []
  },
  {
   "cell_type": "code",
   "execution_count": 188,
   "id": "acting-drunk",
   "metadata": {},
   "outputs": [
    {
     "name": "stdout",
     "output_type": "stream",
     "text": [
      "<class 'numpy.float64'>\n"
     ]
    }
   ],
   "source": [
    "mfccDatas = []\n",
    "#Recuce the MFCCs datas with a mean of all values\n",
    "for i in range(len(mfccRawDatas)) :\n",
    "    #Take the means of all windows\n",
    "    values = mfccRawDatas[i][2].mean(axis=0)\n",
    "    #Add the gender\n",
    "    values = np.append(values, mfccRawDatas[i][0])\n",
    "    #Add the voicetype\n",
    "    values = np.append(values, mfccRawDatas[i][1])\n",
    "    #Put the row in the array\n",
    "    mfccDatas.append(values)\n",
    "    \n",
    "\n",
    "print(type(mfccDatas[13][0]))"
   ]
  },
  {
   "cell_type": "code",
   "execution_count": 189,
   "id": "another-consolidation",
   "metadata": {},
   "outputs": [],
   "source": [
    "#For the rest of the first phase, we'll take only male and female datas.\n",
    "datas = []\n",
    "for d in mfccDatas:\n",
    "    if(d[-2] != 2):\n",
    "        datas.append(d)\n"
   ]
  },
  {
   "cell_type": "code",
   "execution_count": 190,
   "id": "widespread-conversion",
   "metadata": {},
   "outputs": [],
   "source": [
    "#We shuffle the datas and split into trainset and testset\n",
    "def split_dataset(dataset, train_test_ratio=0.8):\n",
    "    np.random.shuffle(dataset)\n",
    "    nb_train = int(len(dataset) * train_test_ratio)\n",
    "    return (dataset[:nb_train], dataset[nb_train:])"
   ]
  },
  {
   "cell_type": "code",
   "execution_count": 191,
   "id": "seasonal-preparation",
   "metadata": {},
   "outputs": [],
   "source": [
    "train, test = split_dataset(datas)\n",
    "train = np.asarray(train)\n",
    "test = np.asarray(test)"
   ]
  },
  {
   "cell_type": "code",
   "execution_count": 194,
   "id": "resident-revolution",
   "metadata": {},
   "outputs": [
    {
     "data": {
      "text/plain": [
       "array([ 21.82196278,  -4.16408103,   0.27876964,  56.75769686,\n",
       "       -30.52459712,  -7.81567849,   2.21771159, -19.80111617,\n",
       "        -3.81153082, -34.45370888,   3.62814851,  -7.5014712 ,\n",
       "       -27.23080347])"
      ]
     },
     "execution_count": 194,
     "metadata": {},
     "output_type": "execute_result"
    }
   ],
   "source": [
    "#We split the dataset into the measure (X_train, X_test) and the \"answer\" (Y_train, Y_test)\n",
    "X_train = train[:, :-2]\n",
    "Y_train = train[:, -2]\n",
    "\n",
    "X_test = test[:, :-2]\n",
    "Y_test = test[:, -2]\n",
    "\n",
    "X_train[0]"
   ]
  },
  {
   "cell_type": "markdown",
   "id": "official-american",
   "metadata": {},
   "source": [
    "## Training part"
   ]
  },
  {
   "cell_type": "code",
   "execution_count": 195,
   "id": "coral-committee",
   "metadata": {},
   "outputs": [],
   "source": [
    "import mlp_backprop_momentum as mlp\n",
    "%matplotlib inline"
   ]
  },
  {
   "cell_type": "code",
   "execution_count": 196,
   "id": "alleged-clinton",
   "metadata": {},
   "outputs": [],
   "source": [
    "# Init the neural network\n",
    "nn = mlp.MLP([13, 5, 2], 'tanh')\n",
    "# 13 inputs (for the 13 mfcc values )\n",
    "# 2 hidden nodes\n",
    "# 2 output (female or male)\n"
   ]
  },
  {
   "cell_type": "code",
   "execution_count": 197,
   "id": "armed-final",
   "metadata": {},
   "outputs": [],
   "source": [
    "MSE = nn.fit((X_train, Y_train), learning_rate=0.001, momentum=0.9, epochs=200)"
   ]
  },
  {
   "cell_type": "code",
   "execution_count": null,
   "id": "protective-image",
   "metadata": {},
   "outputs": [],
   "source": [
    "# TODO NEXT !"
   ]
  }
 ],
 "metadata": {
  "kernelspec": {
   "display_name": "Python 3",
   "language": "python",
   "name": "python3"
  },
  "language_info": {
   "codemirror_mode": {
    "name": "ipython",
    "version": 3
   },
   "file_extension": ".py",
   "mimetype": "text/x-python",
   "name": "python",
   "nbconvert_exporter": "python",
   "pygments_lexer": "ipython3",
   "version": "3.8.5"
  }
 },
 "nbformat": 4,
 "nbformat_minor": 5
}
