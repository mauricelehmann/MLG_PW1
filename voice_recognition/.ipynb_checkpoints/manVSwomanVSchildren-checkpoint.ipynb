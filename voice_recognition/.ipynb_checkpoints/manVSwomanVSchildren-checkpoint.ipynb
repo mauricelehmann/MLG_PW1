{
 "cells": [
  {
   "cell_type": "code",
   "execution_count": 1,
   "id": "after-louisville",
   "metadata": {},
   "outputs": [],
   "source": [
    "import numpy as np\n",
    "from matplotlib import pyplot as pl\n",
    "import os\n",
    "import scipy.io.wavfile as wav\n",
    "\n",
    "%matplotlib inline\n",
    "\n",
    "PATH = './vowels/'"
   ]
  },
  {
   "cell_type": "code",
   "execution_count": 2,
   "id": "suburban-clark",
   "metadata": {},
   "outputs": [],
   "source": [
    "import enum\n",
    "\n",
    "def getGenderFromFilename(filename):\n",
    "    if(filename[2] == 'f'):\n",
    "        return 1 # female\n",
    "    elif(filename[2] == 'm'):\n",
    "        return 0 # male\n",
    "    else:\n",
    "        return 2 # kid\n",
    "    \n",
    "def getVoiceTypeFromFilename(filename):\n",
    "    if(filename[0] == 's'):\n",
    "        return 0 # syntetic voice\n",
    "    else:\n",
    "        return 1 # real voice\n",
    "    \n",
    "def isAdult(filename):\n",
    "    return filename[1] != 'k'\n"
   ]
  },
  {
   "cell_type": "code",
   "execution_count": 3,
   "id": "herbal-bubble",
   "metadata": {},
   "outputs": [],
   "source": [
    "from pathlib import Path\n",
    "from python_speech_features import mfcc\n",
    "\n",
    "mfccRawDatas = []\n",
    "\n",
    "#Read all the wav files\n",
    "pathlist = Path(PATH).glob('*.wav')\n",
    "for path in pathlist:\n",
    "    sample_rate, X = wav.read(str(path))\n",
    "    category = getGenderFromFilename(path.stem)\n",
    "    voiceType = getVoiceTypeFromFilename(path.stem)\n",
    "    #Append the data as a tuple of : (category (male, female or kid), voicetype (natural or synthetic),Mfcc data)\n",
    "    mfccRawDatas.append((category, voiceType, mfcc(X, samplerate = sample_rate, nfft = 1024)))"
   ]
  },
  {
   "cell_type": "code",
   "execution_count": 4,
   "id": "overhead-converter",
   "metadata": {},
   "outputs": [],
   "source": [
    "mfccDatas = []\n",
    "#Recuce the MFCCs datas with a mean of all values\n",
    "for i in range(len(mfccRawDatas)) :\n",
    "    #Take the means of all windows\n",
    "    values = mfccRawDatas[i][2].mean(axis=0)\n",
    "    #Add the gender\n",
    "    values = np.append(values, mfccRawDatas[i][0])\n",
    "    #Add the voicetype\n",
    "    #values = np.append(values, mfccRawDatas[i][1])\n",
    "    #Put the row in the array\n",
    "    mfccDatas.append(values)\n",
    "\n",
    "datas = np.asarray(mfccDatas)"
   ]
  },
  {
   "cell_type": "code",
   "execution_count": 5,
   "id": "resident-asset",
   "metadata": {},
   "outputs": [
    {
     "data": {
      "text/plain": [
       "array([[ 20.23091031,  -3.05757876,   3.52318733, ...,  -3.79244397,\n",
       "         10.65772693,   1.        ],\n",
       "       [ 20.60792994,  13.26461089, -31.91760123, ...,   0.2101426 ,\n",
       "        -12.14103875,   1.        ],\n",
       "       [ 21.24883896,  -3.08067343,  -9.66058454, ...,   4.824814  ,\n",
       "        -12.44522201,   2.        ],\n",
       "       ...,\n",
       "       [ 20.5269434 ,  23.4579428 ,   5.21293321, ..., -14.37504577,\n",
       "         -0.4508497 ,   1.        ],\n",
       "       [ 20.44347833,   2.51463948, -51.57224616, ...,  -1.06487692,\n",
       "         16.20757934,   2.        ],\n",
       "       [ 21.32054429,  16.73002257, -24.59248846, ...,  -1.88185919,\n",
       "         -4.09519674,   2.        ]])"
      ]
     },
     "execution_count": 5,
     "metadata": {},
     "output_type": "execute_result"
    }
   ],
   "source": [
    "datas"
   ]
  },
  {
   "cell_type": "markdown",
   "id": "contained-bosnia",
   "metadata": {},
   "source": [
    "# Training part"
   ]
  },
  {
   "cell_type": "code",
   "execution_count": 6,
   "id": "extended-projection",
   "metadata": {},
   "outputs": [],
   "source": [
    "import mlp_backprop_momentum as mlp\n",
    "import k_fold_cross_validation as cv\n",
    "%matplotlib inline"
   ]
  },
  {
   "cell_type": "code",
   "execution_count": null,
   "id": "driven-excitement",
   "metadata": {},
   "outputs": [
    {
     "name": "stdout",
     "output_type": "stream",
     "text": [
      "Testing 3 neurons...\n"
     ]
    }
   ],
   "source": [
    "EPOCHS = 40\n",
    "LEARNING_RATE = 0.001\n",
    "MOMENTUM = 0.9\n",
    "\n",
    "K = 5\n",
    "N_TESTS = 5\n",
    "N_NEURONS = [3, 5, 7]\n",
    "\n",
    "MSE_train = np.zeros((len(N_NEURONS), EPOCHS, N_TESTS))\n",
    "MSE_test = np.zeros((len(N_NEURONS), EPOCHS, N_TESTS))\n",
    "\n",
    "for i_h, h in enumerate(N_NEURONS):                                     # looping the number of hidden neurons\n",
    "    print('Testing', h, 'neurons...')\n",
    "    nn = mlp.MLP([13, h, 3], 'tanh')\n",
    "        \n",
    "    for i in np.arange(N_TESTS):                                        # looping the tests\n",
    "        nn.init_weights()                                               # the network has to be reinitialized before each test\n",
    "        temp1, temp2 = cv.k_fold_cross_validation_per_epoch(nn,         # notice that we do not use cv.k_fold_cross_validation\n",
    "                                                            datas,      # but cv.k_fold_cross_validation_per_epoch which\n",
    "                                                            k=K,        # returns a value of error per each epoch\n",
    "                                                            learning_rate=LEARNING_RATE,\n",
    "                                                            momentum=MOMENTUM,\n",
    "                                                            epochs=EPOCHS)\n",
    "        # temp1 and temp2 are the training and test error. One value per epoch\n",
    "        MSE_train[i_h, :, i] = temp1\n",
    "        MSE_test[i_h, :, i] = temp2 \n",
    "\n",
    "print(\"Done !\")"
   ]
  },
  {
   "cell_type": "code",
   "execution_count": null,
   "id": "latest-evanescence",
   "metadata": {},
   "outputs": [],
   "source": [
    "MSE_train_mean = np.mean(MSE_train, axis=2)\n",
    "MSE_test_mean = np.mean(MSE_test, axis=2)\n",
    "MSE_train_sd = np.std(MSE_train, axis=2)\n",
    "MSE_test_sd = np.std(MSE_test, axis=2)\n",
    "\n",
    "v_min = min(np.min(MSE_train_mean), np.min(MSE_test_mean))\n",
    "v_max = max(np.max(MSE_train_mean), np.max(MSE_test_mean))\n",
    "\n",
    "n_rows = int(np.ceil(len(N_NEURONS)/3.0))\n",
    "pl.figure(figsize=(12,3*n_rows))\n",
    "for i_n, n in enumerate(N_NEURONS):\n",
    "    pl.subplot(n_rows, min(3, len(N_NEURONS)), i_n+1)\n",
    "    pl.fill_between(np.arange(EPOCHS), MSE_train_mean[i_n,:], MSE_train_mean[i_n,:]+MSE_train_sd[i_n,:], facecolor='blue', alpha=0.5, label='Train')\n",
    "    pl.fill_between(np.arange(EPOCHS), MSE_train_mean[i_n,:], MSE_train_mean[i_n,:]-MSE_train_sd[i_n,:], facecolor='blue', alpha=0.5)\n",
    "    pl.fill_between(np.arange(EPOCHS), MSE_test_mean[i_n,:], MSE_test_mean[i_n,:]+MSE_test_sd[i_n,:], facecolor='red', alpha=0.5, label='Test')\n",
    "    pl.fill_between(np.arange(EPOCHS), MSE_test_mean[i_n,:], MSE_test_mean[i_n,:]-MSE_test_sd[i_n,:], facecolor='red', alpha=0.5)\n",
    "    pl.ylim(v_min,0.8*v_max)\n",
    "    pl.ylabel('MSE')\n",
    "    pl.xlabel('Number of epochs')\n",
    "    pl.title(str(K)+'-fold CV with '+str(n)+' hidden neurons')\n",
    "    pl.legend()\n",
    "    pl.grid()\n",
    "pl.tight_layout()"
   ]
  },
  {
   "cell_type": "code",
   "execution_count": null,
   "id": "pressing-blame",
   "metadata": {},
   "outputs": [],
   "source": [
    "pl.figure(figsize=(15,8))\n",
    "pl.subplot(2,1,1)\n",
    "pl.imshow(MSE_train_mean, vmin=np.min(MSE_train_mean), vmax=np.percentile(MSE_train_mean, 90), aspect=3, interpolation='nearest')\n",
    "pl.yticks(np.arange(len(N_NEURONS)), N_NEURONS)\n",
    "pl.xlabel('Epochs')\n",
    "pl.ylabel('Number of hidden Neurons')\n",
    "pl.title('Training')\n",
    "pl.colorbar()\n",
    "pl.subplot(2,1,2)\n",
    "pl.imshow(MSE_test_mean, vmin=np.min(MSE_test_mean), vmax=np.percentile(MSE_test_mean, 90), aspect=3, interpolation='nearest')\n",
    "pl.yticks(np.arange(len(N_NEURONS)), N_NEURONS)\n",
    "pl.xlabel('Epochs')\n",
    "pl.ylabel('Number of hidden Neurons')\n",
    "pl.title('Test')\n",
    "pl.colorbar()\n",
    "pl.tight_layout()"
   ]
  },
  {
   "cell_type": "markdown",
   "id": "pursuant-wealth",
   "metadata": {},
   "source": [
    "# The final model"
   ]
  },
  {
   "cell_type": "code",
   "execution_count": null,
   "id": "monthly-hollow",
   "metadata": {},
   "outputs": [],
   "source": [
    "nn = mlp.MLP([13,7,1], 'tanh')"
   ]
  },
  {
   "cell_type": "code",
   "execution_count": null,
   "id": "turkish-monster",
   "metadata": {},
   "outputs": [],
   "source": [
    "LEARNING_RATE = 0.001\n",
    "MOMENTUM = 0.9\n",
    "THRESHOLD = 0.5\n",
    "EPOCHS = 200\n",
    "\n",
    "MSE_train, MSE_test, conf_mat = cv.k_fold_cross_validation(nn,\n",
    "                                                          datas,\n",
    "                                                          k=K,\n",
    "                                                          learning_rate=LEARNING_RATE,\n",
    "                                                          momentum=MOMENTUM,\n",
    "                                                          epochs=EPOCHS,\n",
    "                                                          threshold=THRESHOLD)"
   ]
  },
  {
   "cell_type": "code",
   "execution_count": null,
   "id": "intense-uruguay",
   "metadata": {},
   "outputs": [],
   "source": [
    "print('MSE training: ', MSE_train)\n",
    "print('MSE test: ', MSE_test)\n",
    "print('Confusion matrix:')\n",
    "print(conf_mat)"
   ]
  },
  {
   "cell_type": "code",
   "execution_count": null,
   "id": "persistent-configuration",
   "metadata": {},
   "outputs": [],
   "source": [
    "tp = np.diag(conf_mat)\n",
    "fp = np.sum(conf_mat, axis=0) - tp\n",
    "fn = np.sum(conf_mat, axis=1) - tp\n",
    "precision = tp / (tp + fp)\n",
    "recall = tp / (tp + fn)\n",
    "fscore = 2 * recall * precision / (recall + precision)\n",
    "\n",
    "print(\"Classes: man - woman - kid\")\n",
    "print(\"Precision: \", precision)\n",
    "print(\"Recall: \", recall)\n",
    "print(\"F-score: \", fscore)"
   ]
  }
 ],
 "metadata": {
  "kernelspec": {
   "display_name": "Python 3",
   "language": "python",
   "name": "python3"
  },
  "language_info": {
   "codemirror_mode": {
    "name": "ipython",
    "version": 3
   },
   "file_extension": ".py",
   "mimetype": "text/x-python",
   "name": "python",
   "nbconvert_exporter": "python",
   "pygments_lexer": "ipython3",
   "version": "3.7.10"
  }
 },
 "nbformat": 4,
 "nbformat_minor": 5
}
