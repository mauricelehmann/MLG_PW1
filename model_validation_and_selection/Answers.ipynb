{
 "cells": [
  {
   "cell_type": "markdown",
   "id": "restricted-teaching",
   "metadata": {},
   "source": [
    "## 1. EXPLORE THE “HOLD_OUT_VALIDATION” NOTEBOOK\n",
    "\n",
    "#### Q1. Determine where do we define all the above mentioned parameters. Observe that we run the evaluation procedure on four different problems. Each problem is a two-class two-dimensional problem, where the two sets are more and more overlapped\n",
    "#### (e.g., the synthetic datasets are randomly generated using variances of 0.4, 0.5, 0.6 and 0.7).\n",
    "\n",
    "#### Q2. What are the cyan and red curves in those plots ? Why are they different ?\n",
    "\n",
    "#### Q3. What happens with the training and test errors (MSE) when we have the two sets more overlapped ?\n",
    "\n",
    "#### Q4. Why sometimes the red curves indicate a higher error than the cyan ones ?\n",
    "\n",
    "#### Q5. What is showing the boxplot summarizing the validation errors of the preceding experiments ?"
   ]
  },
  {
   "cell_type": "markdown",
   "id": "outside-qatar",
   "metadata": {},
   "source": [
    "## 2. EXPLORE THE “CROSS_VALIDATION” NOTEBOOK\n",
    "#### Q1. Determine where do we define all the above mentioned parameters.\n",
    "#### Q2. What is the difference between hold-out and cross-validation ? What is the new parameter that has to be defined for cross-validation ?\n",
    "#### Q3. Observe the boxplots summarizing the validation errors obtained using the cross-validation method and compare them with those obtained by hold-out validation."
   ]
  },
  {
   "cell_type": "code",
   "execution_count": null,
   "id": "weighted-naples",
   "metadata": {},
   "outputs": [],
   "source": []
  }
 ],
 "metadata": {
  "kernelspec": {
   "display_name": "Python 3",
   "language": "python",
   "name": "python3"
  },
  "language_info": {
   "codemirror_mode": {
    "name": "ipython",
    "version": 3
   },
   "file_extension": ".py",
   "mimetype": "text/x-python",
   "name": "python",
   "nbconvert_exporter": "python",
   "pygments_lexer": "ipython3",
   "version": "3.8.5"
  }
 },
 "nbformat": 4,
 "nbformat_minor": 5
}
